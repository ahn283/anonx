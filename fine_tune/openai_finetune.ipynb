{
 "cells": [
  {
   "cell_type": "code",
   "execution_count": 2,
   "metadata": {},
   "outputs": [],
   "source": [
    "import json\n",
    "import tiktoken     # token counting\n",
    "import numpy as np \n",
    "from collections import defaultdict\n",
    "import warnings\n",
    "warnings.filterwarnings('ignore')\n",
    "from openai_finetune_tools import OpenAIFineTuneTools \n",
    "import pandas as pd\n",
    "import numpy as np\n",
    "import openai\n",
    "import os \n",
    "import random\n",
    "import math\n",
    "import keyring\n",
    "from sklearn.model_selection import train_test_split\n",
    "from tqdm.notebook import tqdm"
   ]
  },
  {
   "cell_type": "markdown",
   "metadata": {},
   "source": [
    "# Data Loading"
   ]
  },
  {
   "cell_type": "code",
   "execution_count": 3,
   "metadata": {},
   "outputs": [
    {
     "data": {
      "text/html": [
       "<div>\n",
       "<style scoped>\n",
       "    .dataframe tbody tr th:only-of-type {\n",
       "        vertical-align: middle;\n",
       "    }\n",
       "\n",
       "    .dataframe tbody tr th {\n",
       "        vertical-align: top;\n",
       "    }\n",
       "\n",
       "    .dataframe thead th {\n",
       "        text-align: right;\n",
       "    }\n",
       "</style>\n",
       "<table border=\"1\" class=\"dataframe\">\n",
       "  <thead>\n",
       "    <tr style=\"text-align: right;\">\n",
       "      <th></th>\n",
       "      <th>neutral</th>\n",
       "      <th>According to Gran , the company has no plans to move all production to Russia , although that is where the company is growing .</th>\n",
       "    </tr>\n",
       "  </thead>\n",
       "  <tbody>\n",
       "    <tr>\n",
       "      <th>0</th>\n",
       "      <td>neutral</td>\n",
       "      <td>Technopolis plans to develop in stages an area...</td>\n",
       "    </tr>\n",
       "    <tr>\n",
       "      <th>1</th>\n",
       "      <td>negative</td>\n",
       "      <td>The international electronic industry company ...</td>\n",
       "    </tr>\n",
       "    <tr>\n",
       "      <th>2</th>\n",
       "      <td>positive</td>\n",
       "      <td>With the new production plant the company woul...</td>\n",
       "    </tr>\n",
       "    <tr>\n",
       "      <th>3</th>\n",
       "      <td>positive</td>\n",
       "      <td>According to the company 's updated strategy f...</td>\n",
       "    </tr>\n",
       "    <tr>\n",
       "      <th>4</th>\n",
       "      <td>positive</td>\n",
       "      <td>FINANCING OF ASPOCOMP 'S GROWTH Aspocomp is ag...</td>\n",
       "    </tr>\n",
       "    <tr>\n",
       "      <th>...</th>\n",
       "      <td>...</td>\n",
       "      <td>...</td>\n",
       "    </tr>\n",
       "    <tr>\n",
       "      <th>4840</th>\n",
       "      <td>negative</td>\n",
       "      <td>LONDON MarketWatch -- Share prices ended lower...</td>\n",
       "    </tr>\n",
       "    <tr>\n",
       "      <th>4841</th>\n",
       "      <td>neutral</td>\n",
       "      <td>Rinkuskiai 's beer sales fell by 6.5 per cent ...</td>\n",
       "    </tr>\n",
       "    <tr>\n",
       "      <th>4842</th>\n",
       "      <td>negative</td>\n",
       "      <td>Operating profit fell to EUR 35.4 mn from EUR ...</td>\n",
       "    </tr>\n",
       "    <tr>\n",
       "      <th>4843</th>\n",
       "      <td>negative</td>\n",
       "      <td>Net sales of the Paper segment decreased to EU...</td>\n",
       "    </tr>\n",
       "    <tr>\n",
       "      <th>4844</th>\n",
       "      <td>negative</td>\n",
       "      <td>Sales in Finland decreased by 10.5 % in Januar...</td>\n",
       "    </tr>\n",
       "  </tbody>\n",
       "</table>\n",
       "<p>4845 rows × 2 columns</p>\n",
       "</div>"
      ],
      "text/plain": [
       "       neutral  \\\n",
       "0      neutral   \n",
       "1     negative   \n",
       "2     positive   \n",
       "3     positive   \n",
       "4     positive   \n",
       "...        ...   \n",
       "4840  negative   \n",
       "4841   neutral   \n",
       "4842  negative   \n",
       "4843  negative   \n",
       "4844  negative   \n",
       "\n",
       "     According to Gran , the company has no plans to move all production to Russia , although that is where the company is growing .  \n",
       "0     Technopolis plans to develop in stages an area...                                                                               \n",
       "1     The international electronic industry company ...                                                                               \n",
       "2     With the new production plant the company woul...                                                                               \n",
       "3     According to the company 's updated strategy f...                                                                               \n",
       "4     FINANCING OF ASPOCOMP 'S GROWTH Aspocomp is ag...                                                                               \n",
       "...                                                 ...                                                                               \n",
       "4840  LONDON MarketWatch -- Share prices ended lower...                                                                               \n",
       "4841  Rinkuskiai 's beer sales fell by 6.5 per cent ...                                                                               \n",
       "4842  Operating profit fell to EUR 35.4 mn from EUR ...                                                                               \n",
       "4843  Net sales of the Paper segment decreased to EU...                                                                               \n",
       "4844  Sales in Finland decreased by 10.5 % in Januar...                                                                               \n",
       "\n",
       "[4845 rows x 2 columns]"
      ]
     },
     "execution_count": 3,
     "metadata": {},
     "output_type": "execute_result"
    }
   ],
   "source": [
    "# Kaggle sentiment analysis for finance\n",
    "dataset_path = '../data/FinancialPhraseBank/all-data.csv'\n",
    "df = pd.read_csv(dataset_path, engine='python', encoding='ISO-8859-1')\n",
    "df"
   ]
  },
  {
   "cell_type": "markdown",
   "metadata": {},
   "source": [
    "## Insert prompt"
   ]
  },
  {
   "cell_type": "code",
   "execution_count": 4,
   "metadata": {},
   "outputs": [
    {
     "data": {
      "text/plain": [
       "{'messages': [{'role': 'system',\n",
       "   'content': \"You are an sentiment analyzer specialized in classifying sentiment of short financial texts.\\nYour task is to analyze the sentiment of the provided financial text and convert it into string format. Never include any other information or strings but output formt.\\n\\nFollow these steps and respond only in the specified output format:\\n\\n# Step 1: Read the provided financial text carefully.\\n\\n# Step 2: Assign a sentiment score between 0 and 1 based on financial perspective.\\n\\n# Step 3: Do a sentimental analysis and classify it into positive, negative or neutral category and get the reason why in the financial perspective.\\n\\n# Step 4: Convert the classification into the specified output format.\\n\\n#### output format:\\n<sentimental analysis>\\n\\n### Example\\n# Text : The international electronic industry company Elcoteq has laid off tens of employees from its Tallinn facility ; contrary to earlier layoffs the company contracted the ranks of its office workers , the daily Postimees reported \\n# Output : negative\\n# Text : Technopolis plans to develop in stages an area of no less than 100,000 square meters in order to host companies working in computer technologies and telecommunications , the statement said .\\n# Output : neutral\\n# Text : 'With the new production plant the company would increase its capacity to meet the expected increase in demand and would improve the use of raw materials and therefore increase the production profitability .'\\n# Output : positive\\n# Text : Rinkuskiai 's beer sales fell by 6.5 per cent to 4.16 million litres , while Kauno Alus ' beer sales jumped by 6.9 per cent to 2.48 million litres.\\n# Output : neutral\\n\"},\n",
       "  {'role': 'user',\n",
       "   'content': 'What is the sentiment of this sentence? Technopolis plans to develop in stages an area of no less than 100,000 square meters in order to host companies working in computer technologies and telecommunications , the statement said .'},\n",
       "  {'role': 'assistant', 'content': 'neutral'}]}"
      ]
     },
     "execution_count": 4,
     "metadata": {},
     "output_type": "execute_result"
    }
   ],
   "source": [
    "prompt_sys = \"\"\"You are an sentiment analyzer specialized in classifying sentiment of short financial texts.\n",
    "Your task is to analyze the sentiment of the provided financial text and convert it into string format. Never include any other information or strings but output formt.\n",
    "\n",
    "Follow these steps and respond only in the specified output format:\n",
    "\n",
    "# Step 1: Read the provided financial text carefully.\n",
    "\n",
    "# Step 2: Assign a sentiment score between 0 and 1 based on financial perspective.\n",
    "\n",
    "# Step 3: Do a sentimental analysis and classify it into positive, negative or neutral category and get the reason why in the financial perspective.\n",
    "\n",
    "# Step 4: Convert the classification into the specified output format.\n",
    "\n",
    "#### output format:\n",
    "<sentimental analysis>\n",
    "\n",
    "### Example\n",
    "# Text : The international electronic industry company Elcoteq has laid off tens of employees from its Tallinn facility ; contrary to earlier layoffs the company contracted the ranks of its office workers , the daily Postimees reported \n",
    "# Output : negative\n",
    "# Text : Technopolis plans to develop in stages an area of no less than 100,000 square meters in order to host companies working in computer technologies and telecommunications , the statement said .\n",
    "# Output : neutral\n",
    "# Text : 'With the new production plant the company would increase its capacity to meet the expected increase in demand and would improve the use of raw materials and therefore increase the production profitability .'\n",
    "# Output : positive\n",
    "# Text : Rinkuskiai 's beer sales fell by 6.5 per cent to 4.16 million litres , while Kauno Alus ' beer sales jumped by 6.9 per cent to 2.48 million litres.\n",
    "# Output : neutral\n",
    "\"\"\"\n",
    "prompt_user = f\"What is the sentiment of this sentence? {df.iloc[0][1]}\"\n",
    "prompt_assistant = f\"{df.iloc[0][0]}\"\n",
    "# data format : dictionary\n",
    "# data_format = f\"\"\"{{\"messages\": [{{\"role\": \"system\", \"content\": \"{prompt_sys}\"}}, {{\"role\": \"user\", \"content\": \"{prompt_user}\"}}, {{\"role\": \"assistant\", \"content\": \"{prompt_assistant}\"}}]}}\"\"\"\n",
    "data_format = {\n",
    "    \"messages\": [\n",
    "        {\"role\": \"system\", \"content\": prompt_sys},\n",
    "        {\"role\": \"user\", \"content\": prompt_user},\n",
    "        {\"role\": \"assistant\", \"content\": prompt_assistant}\n",
    "    ]\n",
    "}\n",
    "\n",
    "data_format"
   ]
  },
  {
   "cell_type": "code",
   "execution_count": 5,
   "metadata": {},
   "outputs": [],
   "source": [
    "# function for random n samples / split train and test dataset\n",
    "def get_random_samples(samples=df, n_random=100, test_size=0.3):\n",
    "    df_sampled = df.sample(n=100)\n",
    "    df_sampled_train = df_sampled.sample(round(n_random * (1 -test_size)))\n",
    "    df_sampled_test = df_sampled.drop(df_sampled_train.index)\n",
    "    return df_sampled_train, df_sampled_test"
   ]
  },
  {
   "cell_type": "code",
   "execution_count": 5,
   "metadata": {},
   "outputs": [],
   "source": [
    "a, b = get_random_samples()"
   ]
  },
  {
   "cell_type": "markdown",
   "metadata": {},
   "source": [
    "# Data Preparation"
   ]
  },
  {
   "cell_type": "code",
   "execution_count": 25,
   "metadata": {},
   "outputs": [
    {
     "data": {
      "text/plain": [
       "{'messages': [{'role': 'system',\n",
       "   'content': \"You are an sentiment analyzer specialized in classifying sentiment of short financial texts.\\nYour task is to analyze the sentiment of the provided financial text and convert it into string format. Never include any other information or strings but output formt.\\n\\nFollow these steps and respond only in the specified output format:\\n\\n# Step 1: Read the provided financial text carefully.\\n\\n# Step 2: Assign a sentiment score between 0 and 1 based on financial perspective.\\n\\n# Step 3: Do a sentimental analysis and classify it into positive, negative or neutral category and get the reason why in the financial perspective.\\n\\n# Step 4: Convert the classification into the specified output format.\\n\\n#### output format:\\n<sentimental analysis>\\n\\n### Example\\n# Text : The international electronic industry company Elcoteq has laid off tens of employees from its Tallinn facility ; contrary to earlier layoffs the company contracted the ranks of its office workers , the daily Postimees reported \\n# Output : negative\\n# Text : Technopolis plans to develop in stages an area of no less than 100,000 square meters in order to host companies working in computer technologies and telecommunications , the statement said .\\n# Output : neutral\\n# Text : 'With the new production plant the company would increase its capacity to meet the expected increase in demand and would improve the use of raw materials and therefore increase the production profitability .'\\n# Output : positive\\n# Text : Rinkuskiai 's beer sales fell by 6.5 per cent to 4.16 million litres , while Kauno Alus ' beer sales jumped by 6.9 per cent to 2.48 million litres.\\n# Output : neutral\\n\"},\n",
       "  {'role': 'user',\n",
       "   'content': 'What is the sentiment of this sentence? Net sales of the Lehdentekijat unit was approximately EUR 14 million in 2007 and it had 70 employees .'},\n",
       "  {'role': 'assistant', 'content': 'neutral'}]}"
      ]
     },
     "execution_count": 25,
     "metadata": {},
     "output_type": "execute_result"
    }
   ],
   "source": [
    "prompt_sys = \"\"\"You are an sentiment analyzer specialized in classifying sentiment of short financial texts.\n",
    "Your task is to analyze the sentiment of the provided financial text and convert it into string format. Never include any other information or strings but output formt.\n",
    "\n",
    "Follow these steps and respond only in the specified output format:\n",
    "\n",
    "# Step 1: Read the provided financial text carefully.\n",
    "\n",
    "# Step 2: Assign a sentiment score between 0 and 1 based on financial perspective.\n",
    "\n",
    "# Step 3: Do a sentimental analysis and classify it into positive, negative or neutral category and get the reason why in the financial perspective.\n",
    "\n",
    "# Step 4: Convert the classification into the specified output format.\n",
    "\n",
    "#### output format:\n",
    "<sentimental analysis>\n",
    "\n",
    "### Example\n",
    "# Text : The international electronic industry company Elcoteq has laid off tens of employees from its Tallinn facility ; contrary to earlier layoffs the company contracted the ranks of its office workers , the daily Postimees reported \n",
    "# Output : negative\n",
    "# Text : Technopolis plans to develop in stages an area of no less than 100,000 square meters in order to host companies working in computer technologies and telecommunications , the statement said .\n",
    "# Output : neutral\n",
    "# Text : 'With the new production plant the company would increase its capacity to meet the expected increase in demand and would improve the use of raw materials and therefore increase the production profitability .'\n",
    "# Output : positive\n",
    "# Text : Rinkuskiai 's beer sales fell by 6.5 per cent to 4.16 million litres , while Kauno Alus ' beer sales jumped by 6.9 per cent to 2.48 million litres.\n",
    "# Output : neutral\n",
    "\"\"\"\n",
    "prompt_user = f\"What is the sentiment of this sentence? {a.iloc[0][1]}\"\n",
    "prompt_assistant = f\"{a.iloc[0][0]}\"\n",
    "# data format : dictionary\n",
    "# data_format = f\"\"\"{{\"messages\": [{{\"role\": \"system\", \"content\": \"{prompt_sys}\"}}, {{\"role\": \"user\", \"content\": \"{prompt_user}\"}}, {{\"role\": \"assistant\", \"content\": \"{prompt_assistant}\"}}]}}\"\"\"\n",
    "data_format = {\n",
    "    \"messages\": [\n",
    "        {\"role\": \"system\", \"content\": prompt_sys},\n",
    "        {\"role\": \"user\", \"content\": prompt_user},\n",
    "        {\"role\": \"assistant\", \"content\": prompt_assistant}\n",
    "    ]\n",
    "}\n",
    "\n",
    "data_format"
   ]
  },
  {
   "cell_type": "code",
   "execution_count": 26,
   "metadata": {},
   "outputs": [
    {
     "data": {
      "text/plain": [
       "'{\"messages\": [{\"role\": \"system\", \"content\": \"You are an sentiment analyzer specialized in classifying sentiment of short financial texts.\\\\nYour task is to analyze the sentiment of the provided financial text and convert it into string format. Never include any other information or strings but output formt.\\\\n\\\\nFollow these steps and respond only in the specified output format:\\\\n\\\\n# Step 1: Read the provided financial text carefully.\\\\n\\\\n# Step 2: Assign a sentiment score between 0 and 1 based on financial perspective.\\\\n\\\\n# Step 3: Do a sentimental analysis and classify it into positive, negative or neutral category and get the reason why in the financial perspective.\\\\n\\\\n# Step 4: Convert the classification into the specified output format.\\\\n\\\\n#### output format:\\\\n<sentimental analysis>\\\\n\\\\n### Example\\\\n# Text : The international electronic industry company Elcoteq has laid off tens of employees from its Tallinn facility ; contrary to earlier layoffs the company contracted the ranks of its office workers , the daily Postimees reported \\\\n# Output : negative\\\\n# Text : Technopolis plans to develop in stages an area of no less than 100,000 square meters in order to host companies working in computer technologies and telecommunications , the statement said .\\\\n# Output : neutral\\\\n# Text : \\'With the new production plant the company would increase its capacity to meet the expected increase in demand and would improve the use of raw materials and therefore increase the production profitability .\\'\\\\n# Output : positive\\\\n# Text : Rinkuskiai \\'s beer sales fell by 6.5 per cent to 4.16 million litres , while Kauno Alus \\' beer sales jumped by 6.9 per cent to 2.48 million litres.\\\\n# Output : neutral\\\\n\"}, {\"role\": \"user\", \"content\": \"What is the sentiment of this sentence? Net sales of the Lehdentekijat unit was approximately EUR 14 million in 2007 and it had 70 employees .\"}, {\"role\": \"assistant\", \"content\": \"neutral\"}]}'"
      ]
     },
     "execution_count": 26,
     "metadata": {},
     "output_type": "execute_result"
    }
   ],
   "source": [
    "jason = json.dumps(data_format)\n",
    "jason"
   ]
  },
  {
   "cell_type": "code",
   "execution_count": 6,
   "metadata": {},
   "outputs": [],
   "source": [
    "def get_json_from_df(df, prompt=prompt_sys):\n",
    "    # List to hold individual formatted messages\n",
    "    formatted_messages = [] \n",
    "    \n",
    "    # Iterate through each row in the DataFrame\n",
    "    for _, row in df.iterrows():\n",
    "        prompt_user = f\"What is the sentiment of this sentence? {row[1]}\"\n",
    "        prompt_assistant = f\"{row[0]}\"\n",
    "        data_format = {\n",
    "            \"messages\": [\n",
    "                {\"role\": \"system\", \"content\": prompt_sys},\n",
    "                {\"role\": \"user\", \"content\": prompt_user},\n",
    "                {\"role\": \"assistant\", \"content\": prompt_assistant}\n",
    "            ]\n",
    "        }\n",
    "        formatted_messages.append(data_format)\n",
    "        \n",
    "    return formatted_messages"
   ]
  },
  {
   "cell_type": "code",
   "execution_count": 7,
   "metadata": {},
   "outputs": [],
   "source": [
    "def to_json_file(file_path, formatted_messages):\n",
    "    with open(file_path, 'w') as f:\n",
    "        for message in formatted_messages:\n",
    "            f.write(json.dumps(message) + '\\n')"
   ]
  },
  {
   "cell_type": "code",
   "execution_count": 29,
   "metadata": {},
   "outputs": [],
   "source": [
    "training_df, test_df = get_random_samples(samples=df, n_random=20)"
   ]
  },
  {
   "cell_type": "code",
   "execution_count": 30,
   "metadata": {},
   "outputs": [],
   "source": [
    "data_formatted_training = get_json_from_df(training_df)\n",
    "data_formatted_test = get_json_from_df(test_df)"
   ]
  },
  {
   "cell_type": "code",
   "execution_count": 31,
   "metadata": {},
   "outputs": [],
   "source": [
    "file_path_train = '../data/jsonl/sentimen_analysis_finance_train_20240922.jsonl'\n",
    "to_json_file(file_path_train, data_formatted_training)"
   ]
  },
  {
   "cell_type": "code",
   "execution_count": 32,
   "metadata": {},
   "outputs": [],
   "source": [
    "file_path_test = '../data/jsonl/sentimen_analysis_finance_test_20240922.jsonl'\n",
    "to_json_file(file_path_test, data_formatted_test)"
   ]
  },
  {
   "cell_type": "markdown",
   "metadata": {},
   "source": [
    "# Explore Data"
   ]
  },
  {
   "cell_type": "code",
   "execution_count": 33,
   "metadata": {},
   "outputs": [
    {
     "data": {
      "text/plain": [
       "'No error found'"
      ]
     },
     "execution_count": 33,
     "metadata": {},
     "output_type": "execute_result"
    }
   ],
   "source": [
    "# format validate\n",
    "openaitools_train = OpenAIFineTuneTools(file_path_train)\n",
    "validate_message_train = openaitools_train.format_validate()\n",
    "validate_message_train"
   ]
  },
  {
   "cell_type": "code",
   "execution_count": 34,
   "metadata": {},
   "outputs": [
    {
     "name": "stdout",
     "output_type": "stream",
     "text": [
      "Num example  missing system message: 0\n",
      "Num examples missing user message: 0\n",
      "\n",
      "### Distribution of num_message_per_example:\n",
      "min / max : 3, 3\n",
      "mean / median: 3.0, 3.0\n",
      "p5 / p95: 3.0, 3.0\n",
      "\n",
      "### Distribution of num_total_tokens_per_example:\n",
      "min / max : 376, 418\n",
      "mean / median: 393.0, 393.0\n",
      "p5 / p95: 382.3, 406.2\n",
      "\n",
      "### Distribution of num_assistant_token_per_example:\n",
      "min / max : 1, 1\n",
      "mean / median: 1.0, 1.0\n",
      "p5 / p95: 1.0, 1.0\n",
      "\n",
      "0 examples may be over the 16,385 token limit, they will be truncated during fine-tuning\n"
     ]
    }
   ],
   "source": [
    "# token count warning\n",
    "openaitools_train.token_counts_warning()"
   ]
  },
  {
   "cell_type": "code",
   "execution_count": 35,
   "metadata": {},
   "outputs": [
    {
     "name": "stdout",
     "output_type": "stream",
     "text": [
      "Dataset has ~5502 tokens that will be charged for during training\n",
      "By default, you'll train for 7 epochs on this dataset\n",
      "By default, you'll be charged for ~38514 tokens\n"
     ]
    }
   ],
   "source": [
    "# cost estimation\n",
    "openaitools_train.cost_estimation()"
   ]
  },
  {
   "cell_type": "markdown",
   "metadata": {},
   "source": [
    "# Upload a training file"
   ]
  },
  {
   "cell_type": "code",
   "execution_count": 36,
   "metadata": {},
   "outputs": [
    {
     "data": {
      "text/plain": [
       "FileObject(id='file-07Go87ONQ8wDtdWrgZl1MdYM', bytes=27463, created_at=1726994724, filename='sentimen_analysis_finance_train_20240922.jsonl', object='file', purpose='fine-tune', status='processed', status_details=None)"
      ]
     },
     "execution_count": 36,
     "metadata": {},
     "output_type": "execute_result"
    }
   ],
   "source": [
    "from openai import OpenAI\n",
    "\n",
    "client = OpenAI(api_key=keyring.get_password('openai', 'key_for_windows'))\n",
    "client.files.create(\n",
    "    file=open('../data/jsonl/sentimen_analysis_finance_train_20240922.jsonl', 'rb'),\n",
    "    purpose=\"fine-tune\"\n",
    ")"
   ]
  },
  {
   "cell_type": "code",
   "execution_count": 38,
   "metadata": {},
   "outputs": [
    {
     "data": {
      "text/plain": [
       "FileObject(id='file-jyjVgePzWeZnz8fdrMzh4YcG', bytes=168774, created_at=1726994789, filename='sentimen_analysis_finance_test_20240922.jsonl', object='file', purpose='fine-tune', status='processed', status_details=None)"
      ]
     },
     "execution_count": 38,
     "metadata": {},
     "output_type": "execute_result"
    }
   ],
   "source": [
    "client.files.create(\n",
    "    file=open('../data/jsonl/sentimen_analysis_finance_test_20240922.jsonl', 'rb'),\n",
    "    purpose=\"fine-tune\"\n",
    ")"
   ]
  },
  {
   "cell_type": "markdown",
   "metadata": {},
   "source": [
    "# Create a fine-tune model"
   ]
  },
  {
   "cell_type": "code",
   "execution_count": 39,
   "metadata": {},
   "outputs": [
    {
     "data": {
      "text/plain": [
       "FineTuningJob(id='ftjob-Nm6R5YMSMQrEKAb9iKjx9HGJ', created_at=1726994839, error=Error(code=None, message=None, param=None), fine_tuned_model=None, finished_at=None, hyperparameters=Hyperparameters(n_epochs='auto', batch_size='auto', learning_rate_multiplier='auto'), model='ft:gpt-4o-mini-2024-07-18:personal::AACNmEyN', object='fine_tuning.job', organization_id='org-YfLvFUJwemLm4m8qa44pA6ht', result_files=[], seed=1375213043, status='validating_files', trained_tokens=None, training_file='file-07Go87ONQ8wDtdWrgZl1MdYM', validation_file='file-jyjVgePzWeZnz8fdrMzh4YcG', estimated_finish=None, integrations=[], user_provided_suffix=None)"
      ]
     },
     "execution_count": 39,
     "metadata": {},
     "output_type": "execute_result"
    }
   ],
   "source": [
    "from openai import OpenAI\n",
    "client = OpenAI(api_key=keyring.get_password('openai', 'key_for_windows'))\n",
    "\n",
    "client.fine_tuning.jobs.create(\n",
    "    training_file='file-07Go87ONQ8wDtdWrgZl1MdYM',\n",
    "    model='ft:gpt-4o-mini-2024-07-18:personal::AACNmEyN',\n",
    "    validation_file='file-jyjVgePzWeZnz8fdrMzh4YcG'\n",
    ")"
   ]
  },
  {
   "cell_type": "markdown",
   "metadata": {},
   "source": [
    "# Use a fine-tuned model"
   ]
  },
  {
   "cell_type": "code",
   "execution_count": 8,
   "metadata": {},
   "outputs": [],
   "source": [
    "sample_data, _ = get_random_samples(samples=df, n_random=100, test_size=0)"
   ]
  },
  {
   "cell_type": "code",
   "execution_count": 9,
   "metadata": {},
   "outputs": [],
   "source": [
    "# prompt for the sentimental analysis\n",
    "prompt = \"\"\"You are an sentiment analyzer specialized in classifying sentiment of short financial texts.\n",
    "Your task is to analyze the sentiment of the provided financial text and convert it into string format. Never include any other information or strings but output formt.\n",
    "\n",
    "Follow these steps and respond only in the specified output format:\n",
    "\n",
    "# Step 1: Read the provided financial text carefully.\n",
    "\n",
    "# Step 2: Assign a sentiment score between 0 and 1 based on financial perspective.\n",
    "\n",
    "# Step 3: Do a sentimental analysis and classify it into positive, negative or neutral category and get the reason why in the financial perspective.\n",
    "\n",
    "# Step 4: Convert the classification into the specified output format.\n",
    "\n",
    "#### output format:\n",
    "<sentimental analysis>\n",
    "\n",
    "### Example\n",
    "# Text : The international electronic industry company Elcoteq has laid off tens of employees from its Tallinn facility ; contrary to earlier layoffs the company contracted the ranks of its office workers , the daily Postimees reported \n",
    "# Output : negative\n",
    "# Text : Technopolis plans to develop in stages an area of no less than 100,000 square meters in order to host companies working in computer technologies and telecommunications , the statement said .\n",
    "# Output : neutral\n",
    "# Text : 'With the new production plant the company would increase its capacity to meet the expected increase in demand and would improve the use of raw materials and therefore increase the production profitability .'\n",
    "# Output : positive\n",
    "# Text : Rinkuskiai 's beer sales fell by 6.5 per cent to 4.16 million litres , while Kauno Alus ' beer sales jumped by 6.9 per cent to 2.48 million litres.\n",
    "# Output : neutral\n",
    "\"\"\""
   ]
  },
  {
   "cell_type": "code",
   "execution_count": 2,
   "metadata": {},
   "outputs": [
    {
     "ename": "ModuleNotFoundError",
     "evalue": "No module named 'keyring'",
     "output_type": "error",
     "traceback": [
      "\u001b[0;31m---------------------------------------------------------------------------\u001b[0m",
      "\u001b[0;31mModuleNotFoundError\u001b[0m                       Traceback (most recent call last)",
      "Cell \u001b[0;32mIn[2], line 3\u001b[0m\n\u001b[1;32m      1\u001b[0m \u001b[38;5;66;03m## llm model\u001b[39;00m\n\u001b[1;32m      2\u001b[0m \u001b[38;5;28;01mfrom\u001b[39;00m \u001b[38;5;21;01mopenai\u001b[39;00m \u001b[38;5;28;01mimport\u001b[39;00m OpenAI\n\u001b[0;32m----> 3\u001b[0m \u001b[38;5;28;01mimport\u001b[39;00m \u001b[38;5;21;01mkeyring\u001b[39;00m\n\u001b[1;32m      4\u001b[0m \u001b[38;5;28;01mimport\u001b[39;00m \u001b[38;5;21;01mpandas\u001b[39;00m \u001b[38;5;28;01mas\u001b[39;00m \u001b[38;5;21;01mpd\u001b[39;00m\n\u001b[1;32m      5\u001b[0m \u001b[38;5;66;03m# sentimental analysis\u001b[39;00m\n",
      "\u001b[0;31mModuleNotFoundError\u001b[0m: No module named 'keyring'"
     ]
    }
   ],
   "source": [
    "## llm model\n",
    "from openai import OpenAI\n",
    "import keyring\n",
    "import pandas as pd\n",
    "# sentimental analysis\n",
    "\n",
    "def sentiment_analysis(prompt=prompt, content=None, model='fine_tuned'):\n",
    "    # clent\n",
    "    client = OpenAI(api_key=keyring.get_password('openai', 'key_for_windows'))\n",
    "    query = prompt + \"\\n\\n#### Text:\\n\\n\" + content\n",
    "    # getting model's response\n",
    "    if model == 'fine_tuned':\n",
    "        model = 'ft:gpt-4o-mini-2024-07-18:personal::AACh9rWY'\n",
    "    else:\n",
    "        model = model\n",
    "    \n",
    "    completion = client.chat.completions.create(\n",
    "        model=model,\n",
    "        messages=[\n",
    "            {'role':'system', 'content':'You are a helpful assistant.'},\n",
    "            {'role':'user', 'content':query}\n",
    "        ]\n",
    "    )\n",
    "    return completion.choices[0].message.content"
   ]
  },
  {
   "cell_type": "code",
   "execution_count": 127,
   "metadata": {},
   "outputs": [
    {
     "name": "stdout",
     "output_type": "stream",
     "text": [
      "neutral neutral\n"
     ]
    }
   ],
   "source": [
    "y_pred = sentiment_analysis(content=sample_data.iloc[3][1])\n",
    "y_true = sample_data.iloc[3][0]\n",
    "print(y_true, y_pred)"
   ]
  },
  {
   "cell_type": "code",
   "execution_count": 129,
   "metadata": {},
   "outputs": [
    {
     "name": "stdout",
     "output_type": "stream",
     "text": [
      "neutral neutral\n"
     ]
    }
   ],
   "source": [
    "y_pred = sentiment_analysis(content=sample_data.iloc[3][1], model='gpt-4o-mini')\n",
    "y_true = sample_data.iloc[3][0]\n",
    "print(y_true, y_pred)"
   ]
  },
  {
   "cell_type": "code",
   "execution_count": 135,
   "metadata": {},
   "outputs": [],
   "source": [
    "## llama model\n",
    "from openai import OpenAI\n",
    "from langchain_community.chat_models import ChatOllama\n",
    "import keyring\n",
    "import pandas as pd\n",
    "# sentimental analysis\n",
    "\n",
    "def sentiment_analysis_llama(prompt=prompt, content=None):\n",
    "    # clent\n",
    "    client = ChatOllama(model='llama3.1')\n",
    "    query = prompt + \"\\n\\n#### Text:\\n\\n\" + content\n",
    "    # getting model's response\n",
    "    \n",
    "    completion = client.invoke(query)\n",
    "    return completion.content"
   ]
  },
  {
   "cell_type": "code",
   "execution_count": 130,
   "metadata": {},
   "outputs": [
    {
     "data": {
      "application/vnd.jupyter.widget-view+json": {
       "model_id": "184e729c5c1c449db111ff43ae68ac0f",
       "version_major": 2,
       "version_minor": 0
      },
      "text/plain": [
       "  0%|          | 0/3 [00:00<?, ?it/s]"
      ]
     },
     "metadata": {},
     "output_type": "display_data"
    },
    {
     "name": "stdout",
     "output_type": "stream",
     "text": [
      "0.8\n",
      "0.9\n",
      "0.8\n"
     ]
    },
    {
     "data": {
      "text/plain": [
       "[0.8, 0.9, 0.8]"
      ]
     },
     "execution_count": 130,
     "metadata": {},
     "output_type": "execute_result"
    }
   ],
   "source": [
    "# extract random 100 test case with 10 iterations\n",
    "import random\n",
    "from tqdm.notebook import tqdm\n",
    "from sklearn.metrics import accuracy_score\n",
    "import warnings\n",
    "warnings.filterwarnings('ignore')       # warning message not showing\n",
    "\n",
    "\n",
    "# fine tuned model\n",
    "accuracy_list = []\n",
    "\n",
    "for n in tqdm(range(3)):\n",
    "    y_true_list = []\n",
    "    y_pred_list = []\n",
    "    sample_data, _ = get_random_samples(samples=df, n_random=10, test_size=0)\n",
    "    accuracy = 0\n",
    "    for i, d in enumerate(sample_data.iterrows()):\n",
    "        y_true = sample_data.iloc[i][0]\n",
    "        y_pred = sentiment_analysis(content=sample_data.iloc[i][1])\n",
    "        y_true_list.append(y_true)\n",
    "        y_pred_list.append(y_pred)\n",
    "    accuracy = accuracy_score(y_true_list, y_pred_list)\n",
    "    print(accuracy)\n",
    "    accuracy_list.append(accuracy)\n",
    "accuracy_list   "
   ]
  },
  {
   "cell_type": "code",
   "execution_count": 132,
   "metadata": {},
   "outputs": [
    {
     "data": {
      "application/vnd.jupyter.widget-view+json": {
       "model_id": "b8cd8f66cd7743bfbe7f072caa2b434b",
       "version_major": 2,
       "version_minor": 0
      },
      "text/plain": [
       "  0%|          | 0/3 [00:00<?, ?it/s]"
      ]
     },
     "metadata": {},
     "output_type": "display_data"
    },
    {
     "name": "stdout",
     "output_type": "stream",
     "text": [
      "0.9\n",
      "0.8\n",
      "0.8\n"
     ]
    },
    {
     "data": {
      "text/plain": [
       "[0.9, 0.8, 0.8]"
      ]
     },
     "execution_count": 132,
     "metadata": {},
     "output_type": "execute_result"
    }
   ],
   "source": [
    "# gpt-4o-mini model\n",
    "accuracy_list = []\n",
    "\n",
    "for n in tqdm(range(3)):\n",
    "    y_true_list = []\n",
    "    y_pred_list = []\n",
    "    sample_data, _ = get_random_samples(samples=df, n_random=10, test_size=0)\n",
    "    accuracy = 0\n",
    "    for i, d in enumerate(sample_data.iterrows()):\n",
    "        y_true = sample_data.iloc[i][0]\n",
    "        y_pred = sentiment_analysis(content=sample_data.iloc[i][1], model='gpt-4o-mini')\n",
    "        y_true_list.append(y_true)\n",
    "        y_pred_list.append(y_pred)\n",
    "    accuracy = accuracy_score(y_true_list, y_pred_list)\n",
    "    print(accuracy)\n",
    "    accuracy_list.append(accuracy)\n",
    "accuracy_list"
   ]
  },
  {
   "cell_type": "code",
   "execution_count": 136,
   "metadata": {},
   "outputs": [
    {
     "data": {
      "application/vnd.jupyter.widget-view+json": {
       "model_id": "9a351fb71b6b418d8c06317f5bba5a1e",
       "version_major": 2,
       "version_minor": 0
      },
      "text/plain": [
       "  0%|          | 0/3 [00:00<?, ?it/s]"
      ]
     },
     "metadata": {},
     "output_type": "display_data"
    },
    {
     "name": "stdout",
     "output_type": "stream",
     "text": [
      "0.6\n",
      "0.5\n",
      "0.6\n"
     ]
    },
    {
     "data": {
      "text/plain": [
       "[0.6, 0.5, 0.6]"
      ]
     },
     "execution_count": 136,
     "metadata": {},
     "output_type": "execute_result"
    }
   ],
   "source": [
    "# llama3.1\n",
    "accuracy_list = []\n",
    "\n",
    "for n in tqdm(range(3)):\n",
    "    y_true_list = []\n",
    "    y_pred_list = []\n",
    "    sample_data, _ = get_random_samples(samples=df, n_random=10, test_size=0)\n",
    "    accuracy = 0\n",
    "    for i, d in enumerate(sample_data.iterrows()):\n",
    "        y_true = sample_data.iloc[i][0]\n",
    "        y_pred = sentiment_analysis_llama(content=sample_data.iloc[i][1])\n",
    "        y_true_list.append(y_true)\n",
    "        y_pred_list.append(y_pred)\n",
    "    accuracy = accuracy_score(y_true_list, y_pred_list)\n",
    "    print(accuracy)\n",
    "    accuracy_list.append(accuracy)\n",
    "accuracy_list"
   ]
  }
 ],
 "metadata": {
  "kernelspec": {
   "display_name": "llm",
   "language": "python",
   "name": "python3"
  },
  "language_info": {
   "codemirror_mode": {
    "name": "ipython",
    "version": 3
   },
   "file_extension": ".py",
   "mimetype": "text/x-python",
   "name": "python",
   "nbconvert_exporter": "python",
   "pygments_lexer": "ipython3",
   "version": "3.10.6"
  }
 },
 "nbformat": 4,
 "nbformat_minor": 2
}
